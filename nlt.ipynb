{
 "cells": [
  {
   "cell_type": "code",
   "execution_count": 76,
   "id": "48d96f8d-c43c-4c7b-a6f8-b6c534bd08a2",
   "metadata": {},
   "outputs": [],
   "source": [
    "import re\n",
    "import nltk\n",
    "from nltk.corpus import stopwords\n",
    "from nltk.tokenize import word_tokenize, sent_tokenize\n",
    "from nltk.stem import PorterStemmer, WordNetLemmatizer\n",
    "from nltk import pos_tag, ne_chunk"
   ]
  },
  {
   "cell_type": "code",
   "execution_count": 77,
   "id": "650feff6-7185-4d87-9be7-99cc4e796c63",
   "metadata": {},
   "outputs": [
    {
     "name": "stderr",
     "output_type": "stream",
     "text": [
      "[nltk_data] Downloading package punkt to\n",
      "[nltk_data]     C:\\Users\\nirma\\AppData\\Roaming\\nltk_data...\n",
      "[nltk_data]   Package punkt is already up-to-date!\n",
      "[nltk_data] Downloading package stopwords to\n",
      "[nltk_data]     C:\\Users\\nirma\\AppData\\Roaming\\nltk_data...\n",
      "[nltk_data]   Package stopwords is already up-to-date!\n",
      "[nltk_data] Error loading average_perceptron_tagger: Package\n",
      "[nltk_data]     'average_perceptron_tagger' not found in index\n",
      "[nltk_data] Downloading package wordnet to\n",
      "[nltk_data]     C:\\Users\\nirma\\AppData\\Roaming\\nltk_data...\n",
      "[nltk_data]   Package wordnet is already up-to-date!\n",
      "[nltk_data] Downloading package maxent_ne_chunker to\n",
      "[nltk_data]     C:\\Users\\nirma\\AppData\\Roaming\\nltk_data...\n",
      "[nltk_data]   Package maxent_ne_chunker is already up-to-date!\n",
      "[nltk_data] Downloading package words to\n",
      "[nltk_data]     C:\\Users\\nirma\\AppData\\Roaming\\nltk_data...\n",
      "[nltk_data]   Package words is already up-to-date!\n"
     ]
    },
    {
     "data": {
      "text/plain": [
       "True"
      ]
     },
     "execution_count": 77,
     "metadata": {},
     "output_type": "execute_result"
    }
   ],
   "source": [
    "nltk.download('punkt')\n",
    "nltk.download('stopwords')\n",
    "nltk.download('average_perceptron_tagger')\n",
    "nltk.download('wordnet')\n",
    "nltk.download('maxent_ne_chunker')\n",
    "nltk.download('words')"
   ]
  },
  {
   "cell_type": "code",
   "execution_count": 78,
   "id": "4be1c63c-39cc-42d6-990a-eefa52ceb9d9",
   "metadata": {},
   "outputs": [],
   "source": [
    "stemmer=PorterStemmer()"
   ]
  },
  {
   "cell_type": "code",
   "execution_count": 79,
   "id": "d45f23ad-3312-4c8d-a602-ee02a3062fe9",
   "metadata": {},
   "outputs": [
    {
     "data": {
      "text/plain": [
       "'final'"
      ]
     },
     "execution_count": 79,
     "metadata": {},
     "output_type": "execute_result"
    }
   ],
   "source": [
    "stemmer.stem(\"finally\")"
   ]
  },
  {
   "cell_type": "code",
   "execution_count": 80,
   "id": "dd4e3f70-f87c-4e5f-b8da-c7fbbf1df3fe",
   "metadata": {},
   "outputs": [],
   "source": [
    "lemmatizer=WordNetLemmatizer()"
   ]
  },
  {
   "cell_type": "code",
   "execution_count": 81,
   "id": "d5ad88fe-4aa9-410b-ad46-591ff796e662",
   "metadata": {},
   "outputs": [
    {
     "data": {
      "text/plain": [
       "'finally'"
      ]
     },
     "execution_count": 81,
     "metadata": {},
     "output_type": "execute_result"
    }
   ],
   "source": [
    "lemmatizer.lemmatize(\"finally\")"
   ]
  },
  {
   "cell_type": "code",
   "execution_count": 82,
   "id": "c986c6ae-4798-4024-8f9a-00ff90612959",
   "metadata": {},
   "outputs": [],
   "source": [
    "text=\"FOOD IS GOOD\""
   ]
  },
  {
   "cell_type": "code",
   "execution_count": 83,
   "id": "4ad6ae6e-477a-4eec-bbdb-d7d351098d01",
   "metadata": {},
   "outputs": [],
   "source": [
    "def lowercase_text(text):\n",
    "    return text.lower()"
   ]
  },
  {
   "cell_type": "code",
   "execution_count": 84,
   "id": "c9eb4f8f-30fd-400f-b8d8-d65f9ae5733b",
   "metadata": {},
   "outputs": [],
   "source": [
    "def remove_punctuation(text):\n",
    "    return re.sub(r'[^\\w\\s]',' ',text)"
   ]
  },
  {
   "cell_type": "code",
   "execution_count": 85,
   "id": "089f3923-1688-494f-84b1-1760de33f721",
   "metadata": {},
   "outputs": [],
   "source": [
    "def tokenize_text(text):\n",
    "    return word_tokenize(text)"
   ]
  },
  {
   "cell_type": "code",
   "execution_count": 86,
   "id": "25cc5e9c-e964-4856-964a-9f14391c4a28",
   "metadata": {},
   "outputs": [],
   "source": [
    "def remove_stopwords(tokens):\n",
    "    stop_words=set(stopwords.words('english'))\n",
    "    return[word for word in tokens if word not in stop_words]"
   ]
  },
  {
   "cell_type": "code",
   "execution_count": 87,
   "id": "e08ef57c-20cf-4846-9bc9-3052e9cdc103",
   "metadata": {},
   "outputs": [],
   "source": [
    "def stem_words(tokens):\n",
    "    stemmer=PorterStemmer()\n",
    "    return[stemmer.stem(word) for word in tokens]"
   ]
  },
  {
   "cell_type": "code",
   "execution_count": 88,
   "id": "7c2bb5cc-4509-4d62-a316-8023ca34a44a",
   "metadata": {},
   "outputs": [],
   "source": [
    "def lemmatize_words(tokens):\n",
    "    lemmatize = WordNetLemmatizer()\n",
    "    return[lemmatizer.lemmatize(word) for word in tokens]"
   ]
  },
  {
   "cell_type": "code",
   "execution_count": 89,
   "id": "639079f9-6235-4528-9369-c6c9d54210d4",
   "metadata": {},
   "outputs": [],
   "source": [
    "def pos_tagging(tokens):\n",
    "    return pos_tag(tokens)"
   ]
  },
  {
   "cell_type": "code",
   "execution_count": 90,
   "id": "aeb477c7-da48-44e7-b34c-6febda13a887",
   "metadata": {},
   "outputs": [],
   "source": [
    "def named_entity_recognition(text):\n",
    "    tokens=tokenize_text(text)\n",
    "    pos_tags=pos_tagging(tokens)\n",
    "    return ne_chunk(pos_tags)"
   ]
  },
  {
   "cell_type": "code",
   "execution_count": 94,
   "id": "c56e41cc-f190-452d-b770-219455aa600b",
   "metadata": {},
   "outputs": [],
   "source": [
    "text_lower = lowercase_text(text)\n",
    "text_clean = remove_punctuation(text_lower)\n",
    "tokens = tokenize_text(text_clean)\n",
    "tokens_no_stopwords = remove_stopwords(tokens)\n",
    "tokens_stemmed = stem_words(tokens_no_stopwords)\n",
    "tokens_lemmatized = lemmatize_words(tokens_no_stopwords)\n",
    "pos_tags = pos_tagging(tokens_no_stopwords)\n",
    "named_entities = named_entity_recognition(text)"
   ]
  },
  {
   "cell_type": "code",
   "execution_count": 92,
   "id": "f9cd1266-9c91-4f7d-aaad-df49f7b67e81",
   "metadata": {},
   "outputs": [
    {
     "name": "stderr",
     "output_type": "stream",
     "text": [
      "[nltk_data] Downloading package averaged_perceptron_tagger to\n",
      "[nltk_data]     C:\\Users\\nirma\\AppData\\Roaming\\nltk_data...\n",
      "[nltk_data]   Unzipping taggers\\averaged_perceptron_tagger.zip.\n"
     ]
    },
    {
     "data": {
      "text/plain": [
       "True"
      ]
     },
     "execution_count": 92,
     "metadata": {},
     "output_type": "execute_result"
    }
   ],
   "source": [
    " nltk.download('averaged_perceptron_tagger')"
   ]
  },
  {
   "cell_type": "code",
   "execution_count": 98,
   "id": "1d8f84e9-249b-455c-aae4-9bf8f97434d5",
   "metadata": {},
   "outputs": [
    {
     "name": "stdout",
     "output_type": "stream",
     "text": [
      "Lowercased Text: food is good\n"
     ]
    }
   ],
   "source": [
    "print(\"Lowercased Text:\", text_lower)"
   ]
  },
  {
   "cell_type": "code",
   "execution_count": 100,
   "id": "d2a677c4-1010-45fc-82f9-27b33f123a0c",
   "metadata": {},
   "outputs": [
    {
     "name": "stdout",
     "output_type": "stream",
     "text": [
      "Cleaned Text: food is good\n"
     ]
    }
   ],
   "source": [
    "print(\"Cleaned Text:\", text_clean)"
   ]
  },
  {
   "cell_type": "code",
   "execution_count": 102,
   "id": "5cfe5364-6f85-4815-9aa4-73e441e96130",
   "metadata": {},
   "outputs": [
    {
     "name": "stdout",
     "output_type": "stream",
     "text": [
      "Tokens: ['food', 'is', 'good']\n"
     ]
    }
   ],
   "source": [
    "print(\"Tokens:\", tokens)"
   ]
  },
  {
   "cell_type": "code",
   "execution_count": 104,
   "id": "d1c88aa4-d39a-4c5b-b52e-4786f2d04163",
   "metadata": {},
   "outputs": [
    {
     "name": "stdout",
     "output_type": "stream",
     "text": [
      "tokens without Stopwords: ['food', 'good']\n"
     ]
    }
   ],
   "source": [
    "print(\"tokens without Stopwords:\", tokens_no_stopwords)"
   ]
  },
  {
   "cell_type": "code",
   "execution_count": 106,
   "id": "b04bd1f1-ff14-4ed8-a9bb-99464507f256",
   "metadata": {},
   "outputs": [
    {
     "name": "stdout",
     "output_type": "stream",
     "text": [
      "Stemmed Tokens: ['food', 'good']\n"
     ]
    }
   ],
   "source": [
    "print(\"Stemmed Tokens:\", tokens_lemmatized)"
   ]
  },
  {
   "cell_type": "code",
   "execution_count": null,
   "id": "35197c8f-980b-4b64-8b1e-38461c3ba1e3",
   "metadata": {},
   "outputs": [],
   "source": [
    "print(\"Lemmatized"
   ]
  }
 ],
 "metadata": {
  "kernelspec": {
   "display_name": "Python 3 (ipykernel)",
   "language": "python",
   "name": "python3"
  },
  "language_info": {
   "codemirror_mode": {
    "name": "ipython",
    "version": 3
   },
   "file_extension": ".py",
   "mimetype": "text/x-python",
   "name": "python",
   "nbconvert_exporter": "python",
   "pygments_lexer": "ipython3",
   "version": "3.12.4"
  }
 },
 "nbformat": 4,
 "nbformat_minor": 5
}
